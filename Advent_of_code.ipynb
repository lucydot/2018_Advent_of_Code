{
 "cells": [
  {
   "cell_type": "markdown",
   "metadata": {},
   "source": [
    "## My First Advent of Code !!\n",
    "\n",
    "### Day 1"
   ]
  },
  {
   "cell_type": "code",
   "execution_count": 1,
   "metadata": {},
   "outputs": [],
   "source": [
    "# WARNING : this can take a while to run, depending on repeat length\n",
    "\n",
    "def day_one(repeat):\n",
    "\n",
    "    count=0\n",
    "    count_list=[]\n",
    "    i=0\n",
    "\n",
    "    print(\"start\")\n",
    "\n",
    "    for _ in range(repeat):\n",
    "        with open(\"./input.txt\",'r') as filein:\n",
    "            for line in filein:\n",
    "                if line[0] == \"-\":\n",
    "                    count= count - float(line[1:])\n",
    "                    if count in count_list:\n",
    "                        print (\"repeat found for \"+str(count))\n",
    "                        return\n",
    "                    else:\n",
    "                        count_list.append(count)\n",
    "\n",
    "                elif line[0] == \"+\":\n",
    "                    count = count + float(line[1:])\n",
    "                    if count in count_list:\n",
    "                        print (\"repeat found for \"+str(count))  \n",
    "                        return\n",
    "                    else:\n",
    "                        count_list.append(count)\n",
    "\n",
    "                else:\n",
    "                    print (\"urgh, something wrong\")\n",
    "                    \n",
    "    print (count)\n",
    "    print (\"end\")\n",
    "\n"
   ]
  },
  {
   "cell_type": "code",
   "execution_count": 2,
   "metadata": {},
   "outputs": [
    {
     "name": "stdout",
     "output_type": "stream",
     "text": [
      "start\n",
      "466.0\n",
      "end\n",
      "start\n",
      "repeat found for 750.0\n"
     ]
    }
   ],
   "source": [
    "day_one(1)   # 466\n",
    "day_one(150)   # 750"
   ]
  },
  {
   "cell_type": "markdown",
   "metadata": {},
   "source": [
    "### Day 2"
   ]
  },
  {
   "cell_type": "code",
   "execution_count": 3,
   "metadata": {},
   "outputs": [],
   "source": [
    "def day_two():\n",
    "    with open(\"input (1).txt\",\"r\") as filein:\n",
    "        two_count = 0\n",
    "        three_count = 0\n",
    "        for line in filein:\n",
    "            letter_list = (list(line)[:-1])\n",
    "            for letter in letter_list: \n",
    "                if letter_list.count(letter) == 2:\n",
    "                    two_count += 1\n",
    "                    break\n",
    "                else:\n",
    "                    continue\n",
    "            for letter in letter_list:                        \n",
    "                if letter_list.count(letter) == 3:\n",
    "                    three_count += 1\n",
    "                    break\n",
    "                else:\n",
    "                    continue\n",
    "                \n",
    "    checksum = two_count * three_count\n",
    "    print (checksum)\n",
    "    \n",
    "    ID_list = []\n",
    "    with open(\"input (1).txt\",\"r\") as filein:\n",
    "        for line in filein:\n",
    "            ID_list.append(line[:-1])\n",
    "            \n",
    "    for ID1_index,ID1 in enumerate(ID_list):\n",
    "        for ID2 in ID_list:\n",
    "            # this is the juice. Go through removing one letter at a time, from both arrays, and see if they match.\n",
    "            for letter_index in range(len(list((ID1)))):\n",
    "                if (list(ID1)[:letter_index]+list(ID1)[letter_index+1:]) == (list(ID2)[:letter_index]+list(ID2)[letter_index+1:]):\n",
    "                    if ID1 != ID2:\n",
    "                        print (\"match found:\"+ID1+\"/\"+ID2)\n",
    "                        return\n",
    "\n",
    "                else:\n",
    "                    continue\n",
    "                \n",
    "            \n",
    "    "
   ]
  },
  {
   "cell_type": "code",
   "execution_count": 4,
   "metadata": {},
   "outputs": [
    {
     "name": "stdout",
     "output_type": "stream",
     "text": [
      "5166\n",
      "match found:cypueihajytotrdkgzxfqplbwn/cypueihajytomrdkgzxfqplbwn\n",
      "match found:cypueihajytomrdkgzxfqplbwn/cypueihajytotrdkgzxfqplbwn\n"
     ]
    }
   ],
   "source": [
    "day_two() # 5166\n",
    "          # cypueihajytordkgzxfqplbwn"
   ]
  },
  {
   "cell_type": "markdown",
   "metadata": {},
   "source": [
    "### Day 3"
   ]
  },
  {
   "cell_type": "code",
   "execution_count": 5,
   "metadata": {},
   "outputs": [],
   "source": [
    "import numpy as np\n",
    "import re\n",
    "\n",
    "def day_three():\n",
    "    fabric = np.zeros([1000,1000])\n",
    "    with open(\"input (2).txt\",\"r\") as filein:\n",
    "        for line in filein:\n",
    "            ID = line.split()[0]\n",
    "            left=int(re.search(r'(\\d*)\\,(\\d*)',line.split()[2]).group(1))\n",
    "            top=int(re.search(r'(\\d*)\\,(\\d*)',line.split()[2]).group(2))\n",
    "            width=int(re.search(r'(\\d*)x(\\d*)',line.split()[3]).group(1))\n",
    "            height=int(re.search(r'(\\d*)x(\\d*)',line.split()[3]).group(2))\n",
    "            for i in range(height):\n",
    "                for j in range(width):\n",
    "                    fabric[top+i][left+j]+=1\n",
    "    # np.where is suuupppeerr useful here             \n",
    "    overlap=fabric[np.where(fabric>1)]\n",
    "    print (len(overlap))\n",
    "    \n",
    "## part two\n",
    "    a=np.where(fabric==1)\n",
    "    fabric_indices=[]\n",
    "    # list of array indices where equal to 1\n",
    "    for i,j in zip(a[0],a[1]):\n",
    "        fabric_indices.append([i,j])\n",
    "    \n",
    "    with open(\"input (2).txt\",\"r\") as filein:                \n",
    "        for line in filein:\n",
    "            fabric_individual = np.zeros([1000,1000])\n",
    "            ID = line.split()[0]\n",
    "            left=int(re.search(r'(\\d*)\\,(\\d*)',line.split()[2]).group(1))\n",
    "            top=int(re.search(r'(\\d*)\\,(\\d*)',line.split()[2]).group(2))\n",
    "            width=int(re.search(r'(\\d*)x(\\d*)',line.split()[3]).group(1))\n",
    "            height=int(re.search(r'(\\d*)x(\\d*)',line.split()[3]).group(2))\n",
    "            for i in range(height):\n",
    "                for j in range(width):\n",
    "                    fabric_individual[top+i][left+j]=1\n",
    "                    \n",
    "            a=np.where(fabric_individual==1)\n",
    "            individual_indices=[]\n",
    "            # list of array indices for particular fabric cut where equal to 1\n",
    "            for i,j in zip(a[0],a[1]):\n",
    "                individual_indices.append([i,j])\n",
    "            \n",
    "            # if all of the array indices are also 1 in the fabric_array, then we have our match\n",
    "            if all(elem in fabric_indices for elem in individual_indices):\n",
    "                print (ID)\n",
    "                return\n",
    "    \n",
    "                \n",
    "    \n",
    "# for sanity checks..\n",
    "#    with open(\"fabric.txt\",\"w\") as fileout:\n",
    "#        with np.printoptions(threshold=np.inf):\n",
    "#            fileout.write(str(overlap))"
   ]
  },
  {
   "cell_type": "code",
   "execution_count": null,
   "metadata": {},
   "outputs": [],
   "source": [
    "day_three() #118322\n",
    "            # 1178"
   ]
  },
  {
   "cell_type": "markdown",
   "metadata": {},
   "source": [
    "### Day 4"
   ]
  },
  {
   "cell_type": "code",
   "execution_count": 7,
   "metadata": {},
   "outputs": [],
   "source": [
    "import pandas as pd\n",
    "\n",
    "# I've probably went a bit overkill here, but I went from clarity over brevity.\n",
    "\n",
    "def day_four():\n",
    "\n",
    "    # read in data and sort by datetime stamp       \n",
    "    df=pd.read_csv(\"input (3).txt\",delimiter=\"]\",header=None,names=[\"time\",\"event\"])\n",
    "    df=df.sort_values(by='time')\n",
    "    \n",
    "    # create ID column row\n",
    "    df['ID'] = pd.Series(np.random.randint(0,10,size=len(df['time'])))\n",
    "                         \n",
    "    # set ID column row\n",
    "    for index, row in df.iterrows():\n",
    "        if 'Guard' in row['event']:\n",
    "            ID_number = int(row['event'].split()[1][1:])\n",
    "            df.set_value(index, 'ID', ID_number)\n",
    "        else:\n",
    "            df.set_value(index, 'ID', ID_number)\n",
    "    \n",
    "    # iterate through guard ID_numbers\n",
    "    guard_total=[]\n",
    "    guard_break_down=[]\n",
    "    for ID_number in df.ID.unique():\n",
    "        # re-set index for each individual guard\n",
    "        df_guard = df[df['ID'] == ID_number].reset_index(drop=True)   \n",
    "        # set a tally for each minute between midnight and 1am\n",
    "        sleep_count = np.zeros(60)      \n",
    "        for index, row in df_guard.iterrows():\n",
    "            if 'asleep' in row['event']:\n",
    "                # check it's not the final row in the dataframe\n",
    "                if (index+1 != len(df_guard)):\n",
    "                    # add 1 to the minute tally between asleep and waking minutes\n",
    "                    if 'wakes' in df_guard.iloc[index+1]['event']:\n",
    "                        start=int(df_guard.iloc[index]['time'].split()[1][-2:])\n",
    "                        end=int(df_guard.iloc[index+1]['time'].split()[1][-2:])\n",
    "                        sleep_count[start:end]+=1\n",
    "                    # if final event for the day, add 1 to the minute tally from minute asleep to 1am (though don't think this happens)\n",
    "                    else:\n",
    "                        start=int(df_guard.iloc[index]['time'].split()[1][-2:])\n",
    "                        sleep_count[start:]+=1\n",
    "                # if final row in dataframe, add 1 to the minute tally from minute asleep to 1am (though don't think this happens)\n",
    "                else:\n",
    "                    start=int(df_guard.iloc[index]['time'].split()[1][-2:])\n",
    "                    sleep_count[start:]+=1\n",
    "\n",
    "        guard_total.append([ID_number,sleep_count.sum()])\n",
    "        guard_break_down.append([ID_number,sleep_count])\n",
    "    return np.array(guard_total), guard_break_down"
   ]
  },
  {
   "cell_type": "code",
   "execution_count": 8,
   "metadata": {},
   "outputs": [
    {
     "name": "stderr",
     "output_type": "stream",
     "text": [
      "/usr/local/lib/python3.6/site-packages/ipykernel_launcher.py:18: FutureWarning: set_value is deprecated and will be removed in a future release. Please use .at[] or .iat[] accessors instead\n",
      "/usr/local/lib/python3.6/site-packages/ipykernel_launcher.py:20: FutureWarning: set_value is deprecated and will be removed in a future release. Please use .at[] or .iat[] accessors instead\n"
     ]
    },
    {
     "name": "stdout",
     "output_type": "stream",
     "text": [
      "[[1487.  461.]\n",
      " [1493.  429.]\n",
      " [ 103.  291.]\n",
      " [2389.  427.]\n",
      " [3391.  366.]\n",
      " [3253.  229.]\n",
      " [ 641.  402.]\n",
      " [ 131.  489.]\n",
      " [2797.  349.]\n",
      " [2437.  358.]\n",
      " [2447.  448.]\n",
      " [ 619.  375.]\n",
      " [1613.  334.]\n",
      " [1033.  252.]\n",
      " [2969.  235.]\n",
      " [ 443.  371.]\n",
      " [2089.  330.]\n",
      " [1373.  367.]\n",
      " [2417.  432.]\n",
      " [3023.  150.]\n",
      " [2683.    0.]\n",
      " [1973.    0.]\n",
      " [1913.    0.]]\n",
      "489.0\n",
      "1487 13.0\n",
      "1493 14.0\n",
      "103 10.0\n",
      "2389 15.0\n",
      "3391 11.0\n",
      "3253 9.0\n",
      "641 14.0\n",
      "131 14.0\n",
      "2797 9.0\n",
      "2437 12.0\n",
      "2447 11.0\n",
      "619 12.0\n",
      "1613 11.0\n",
      "1033 10.0\n",
      "2969 7.0\n",
      "443 13.0\n",
      "2089 9.0\n",
      "1373 11.0\n",
      "2417 11.0\n",
      "3023 5.0\n",
      "2683 0.0\n",
      "1973 0.0\n",
      "1913 0.0\n"
     ]
    }
   ],
   "source": [
    "# I got sloppy here and done stuff by inspection, but this was the easiest way (for me)\n",
    "\n",
    "guard_total, guard_break_down = day_four()\n",
    "print (guard_total)\n",
    "print (max(guard_total[:,1]))\n",
    "# from inspection\n",
    "# ID = 131\n",
    "# minute = 36\n",
    "# part 1: 4716\n",
    "\n",
    "guard_max=[]\n",
    "for break_down in guard_break_down:\n",
    "    print (break_down[0],max(break_down[1]))\n",
    "    \n",
    "# from inspection\n",
    "# ID = 2389\n",
    "# minute = 49\n",
    "# part 2: 117061"
   ]
  },
  {
   "cell_type": "markdown",
   "metadata": {},
   "source": [
    "### Day 5"
   ]
  },
  {
   "cell_type": "code",
   "execution_count": 16,
   "metadata": {},
   "outputs": [],
   "source": [
    "## at first I tried iterating through each element of the string and comparing letter to letters before and after.\n",
    "## Using regex is much less clunky\n",
    "\n",
    "import string\n",
    "import re\n",
    "\n",
    "def react_polymer(polymer_string):\n",
    "    lowers=list(string.ascii_lowercase)\n",
    "    proceed = True\n",
    "    while proceed==True:\n",
    "        proceed=False\n",
    "        for letter in lowers:\n",
    "            Ul = letter.upper()+letter\n",
    "            if re.search(Ul,polymer_string):\n",
    "                regex=re.search(r'(.*)'+Ul+'(.*)',polymer_string)\n",
    "                polymer_string=regex.group(1)+regex.group(2)\n",
    "                proceed=True\n",
    "            lU = letter + letter.upper()\n",
    "            if re.search(lU,polymer_string):\n",
    "                regex=re.search(r'(.*)'+lU+'(.*)',polymer_string)\n",
    "                polymer_string=regex.group(1)+regex.group(2)\n",
    "                proceed=True\n",
    "\n",
    "    return (len(polymer_string))\n",
    "\n"
   ]
  },
  {
   "cell_type": "code",
   "execution_count": null,
   "metadata": {},
   "outputs": [
    {
     "name": "stdout",
     "output_type": "stream",
     "text": [
      "part one: 11546\n"
     ]
    }
   ],
   "source": [
    "# part one\n",
    "# polymer_string = \"dabAcCaCBAcCcaDA\"   # example string\n",
    "polymer_string = open(\"input (4).txt\",\"r\").read()   # question string\n",
    "units=react_polymer(polymer_string) # answer 11546\n",
    "print (\"part one: \"+str(units))\n",
    "\n",
    "# part two\n",
    "results=[]\n",
    "lowers=list(string.ascii_lowercase)\n",
    "for letter in lowers:\n",
    "    polymer_string_reduced = re.sub(letter,'',polymer_string)\n",
    "    polymer_string_reduced = re.sub(letter.upper(),'',polymer_string_reduced)\n",
    "    results.append([letter,react_polymer(polymer_string_reduced)])\n",
    "# I need to do this a better way than appending to lists...making an array..transforming to ints...finding min...\n",
    "print (\"part two: \"+min([int(x) for x in np.array(results)[:,1]]))"
   ]
  },
  {
   "cell_type": "code",
   "execution_count": null,
   "metadata": {},
   "outputs": [],
   "source": []
  }
 ],
 "metadata": {
  "kernelspec": {
   "display_name": "Python 3",
   "language": "python",
   "name": "python3"
  },
  "language_info": {
   "codemirror_mode": {
    "name": "ipython",
    "version": 3
   },
   "file_extension": ".py",
   "mimetype": "text/x-python",
   "name": "python",
   "nbconvert_exporter": "python",
   "pygments_lexer": "ipython3",
   "version": "3.6.4"
  }
 },
 "nbformat": 4,
 "nbformat_minor": 2
}
