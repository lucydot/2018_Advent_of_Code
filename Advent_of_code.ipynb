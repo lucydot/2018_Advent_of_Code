{
 "cells": [
  {
   "cell_type": "markdown",
   "metadata": {},
   "source": [
    "## My First Advent of Code !!\n",
    "\n",
    "### Day 1"
   ]
  },
  {
   "cell_type": "code",
   "execution_count": 1,
   "metadata": {},
   "outputs": [],
   "source": [
    "# WARNING : this can take a while to run, depending on repeat length\n",
    "\n",
    "def day_one(repeat):\n",
    "\n",
    "    count=0\n",
    "    count_list=[]\n",
    "    i=0\n",
    "\n",
    "    print(\"start\")\n",
    "\n",
    "    for _ in range(repeat):\n",
    "        with open(\"./input.txt\",'r') as filein:\n",
    "            for line in filein:\n",
    "                if line[0] == \"-\":\n",
    "                    count= count - float(line[1:])\n",
    "                    if count in count_list:\n",
    "                        print (\"repeat found for \"+str(count))\n",
    "                        return\n",
    "                    else:\n",
    "                        count_list.append(count)\n",
    "\n",
    "                elif line[0] == \"+\":\n",
    "                    count = count + float(line[1:])\n",
    "                    if count in count_list:\n",
    "                        print (\"repeat found for \"+str(count))  \n",
    "                        return\n",
    "                    else:\n",
    "                        count_list.append(count)\n",
    "\n",
    "                else:\n",
    "                    print (\"urgh, something wrong\")\n",
    "                    \n",
    "    print (count)\n",
    "    print (\"end\")\n",
    "\n"
   ]
  },
  {
   "cell_type": "code",
   "execution_count": 2,
   "metadata": {},
   "outputs": [
    {
     "name": "stdout",
     "output_type": "stream",
     "text": [
      "start\n",
      "466.0\n",
      "end\n",
      "start\n",
      "repeat found for 750.0\n"
     ]
    }
   ],
   "source": [
    "day_one(1)   # 466\n",
    "day_one(150)   # 750"
   ]
  },
  {
   "cell_type": "markdown",
   "metadata": {},
   "source": [
    "### Day 2"
   ]
  },
  {
   "cell_type": "code",
   "execution_count": 3,
   "metadata": {},
   "outputs": [],
   "source": [
    "def day_two():\n",
    "    with open(\"input (1).txt\",\"r\") as filein:\n",
    "        two_count = 0\n",
    "        three_count = 0\n",
    "        for line in filein:\n",
    "            letter_list = (list(line)[:-1])\n",
    "            for letter in letter_list: \n",
    "                if letter_list.count(letter) == 2:\n",
    "                    two_count += 1\n",
    "                    break\n",
    "                else:\n",
    "                    continue\n",
    "            for letter in letter_list:                        \n",
    "                if letter_list.count(letter) == 3:\n",
    "                    three_count += 1\n",
    "                    break\n",
    "                else:\n",
    "                    continue\n",
    "                \n",
    "    checksum = two_count * three_count\n",
    "    print (checksum)\n",
    "    \n",
    "    ID_list = []\n",
    "    with open(\"input (1).txt\",\"r\") as filein:\n",
    "        for line in filein:\n",
    "            ID_list.append(line[:-1])\n",
    "            \n",
    "    for ID1_index,ID1 in enumerate(ID_list):\n",
    "        for ID2 in ID_list:\n",
    "            # this is the juice. Go through removing one letter at a time, from both arrays, and see if they match.\n",
    "            for letter_index in range(len(list((ID1)))):\n",
    "                if (list(ID1)[:letter_index]+list(ID1)[letter_index+1:]) == (list(ID2)[:letter_index]+list(ID2)[letter_index+1:]):\n",
    "                    if ID1 != ID2:\n",
    "                        print (\"match found:\"+ID1+\"/\"+ID2)\n",
    "                        return\n",
    "\n",
    "                else:\n",
    "                    continue\n",
    "                \n",
    "            \n",
    "    "
   ]
  },
  {
   "cell_type": "code",
   "execution_count": 4,
   "metadata": {},
   "outputs": [
    {
     "name": "stdout",
     "output_type": "stream",
     "text": [
      "5166\n",
      "match found:cypueihajytotrdkgzxfqplbwn/cypueihajytomrdkgzxfqplbwn\n",
      "match found:cypueihajytomrdkgzxfqplbwn/cypueihajytotrdkgzxfqplbwn\n"
     ]
    }
   ],
   "source": [
    "day_two() # 5166\n",
    "          # cypueihajytordkgzxfqplbwn"
   ]
  },
  {
   "cell_type": "markdown",
   "metadata": {},
   "source": [
    "### Day 3"
   ]
  },
  {
   "cell_type": "code",
   "execution_count": 5,
   "metadata": {},
   "outputs": [],
   "source": [
    "import numpy as np\n",
    "import re\n",
    "\n",
    "def day_three():\n",
    "    fabric = np.zeros([1000,1000])\n",
    "    with open(\"input (2).txt\",\"r\") as filein:\n",
    "        for line in filein:\n",
    "            ID = line.split()[0]\n",
    "            left=int(re.search(r'(\\d*)\\,(\\d*)',line.split()[2]).group(1))\n",
    "            top=int(re.search(r'(\\d*)\\,(\\d*)',line.split()[2]).group(2))\n",
    "            width=int(re.search(r'(\\d*)x(\\d*)',line.split()[3]).group(1))\n",
    "            height=int(re.search(r'(\\d*)x(\\d*)',line.split()[3]).group(2))\n",
    "            for i in range(height):\n",
    "                for j in range(width):\n",
    "                    fabric[top+i][left+j]+=1\n",
    "    # np.where is suuupppeerr useful here             \n",
    "    overlap=fabric[np.where(fabric>1)]\n",
    "    print (len(overlap))\n",
    "    \n",
    "## part two\n",
    "    a=np.where(fabric==1)\n",
    "    fabric_indices=[]\n",
    "    # list of array indices where equal to 1\n",
    "    for i,j in zip(a[0],a[1]):\n",
    "        fabric_indices.append([i,j])\n",
    "    \n",
    "    with open(\"input (2).txt\",\"r\") as filein:                \n",
    "        for line in filein:\n",
    "            fabric_individual = np.zeros([1000,1000])\n",
    "            ID = line.split()[0]\n",
    "            left=int(re.search(r'(\\d*)\\,(\\d*)',line.split()[2]).group(1))\n",
    "            top=int(re.search(r'(\\d*)\\,(\\d*)',line.split()[2]).group(2))\n",
    "            width=int(re.search(r'(\\d*)x(\\d*)',line.split()[3]).group(1))\n",
    "            height=int(re.search(r'(\\d*)x(\\d*)',line.split()[3]).group(2))\n",
    "            for i in range(height):\n",
    "                for j in range(width):\n",
    "                    fabric_individual[top+i][left+j]=1\n",
    "                    \n",
    "            a=np.where(fabric_individual==1)\n",
    "            individual_indices=[]\n",
    "            # list of array indices for particular fabric cut where equal to 1\n",
    "            for i,j in zip(a[0],a[1]):\n",
    "                individual_indices.append([i,j])\n",
    "            \n",
    "            # if all of the array indices are also 1 in the fabric_array, then we have our match\n",
    "            if all(elem in fabric_indices for elem in individual_indices):\n",
    "                print (ID)\n",
    "                return\n",
    "    \n",
    "                \n",
    "    \n",
    "# for sanity checks..\n",
    "#    with open(\"fabric.txt\",\"w\") as fileout:\n",
    "#        with np.printoptions(threshold=np.inf):\n",
    "#            fileout.write(str(overlap))"
   ]
  },
  {
   "cell_type": "code",
   "execution_count": null,
   "metadata": {},
   "outputs": [],
   "source": [
    "day_three() #118322\n",
    "            # 1178"
   ]
  },
  {
   "cell_type": "markdown",
   "metadata": {},
   "source": [
    "### Day 4"
   ]
  },
  {
   "cell_type": "code",
   "execution_count": 7,
   "metadata": {},
   "outputs": [],
   "source": [
    "import pandas as pd\n",
    "\n",
    "# I've probably went a bit overkill here, but I went from clarity over brevity.\n",
    "\n",
    "def day_four():\n",
    "\n",
    "    # read in data and sort by datetime stamp       \n",
    "    df=pd.read_csv(\"input (3).txt\",delimiter=\"]\",header=None,names=[\"time\",\"event\"])\n",
    "    df=df.sort_values(by='time')\n",
    "    \n",
    "    # create ID column row\n",
    "    df['ID'] = pd.Series(np.random.randint(0,10,size=len(df['time'])))\n",
    "                         \n",
    "    # set ID column row\n",
    "    for index, row in df.iterrows():\n",
    "        if 'Guard' in row['event']:\n",
    "            ID_number = int(row['event'].split()[1][1:])\n",
    "            df.set_value(index, 'ID', ID_number)\n",
    "        else:\n",
    "            df.set_value(index, 'ID', ID_number)\n",
    "    \n",
    "    # iterate through guard ID_numbers\n",
    "    guard_total=[]\n",
    "    guard_break_down=[]\n",
    "    for ID_number in df.ID.unique():\n",
    "        # re-set index for each individual guard\n",
    "        df_guard = df[df['ID'] == ID_number].reset_index(drop=True)   \n",
    "        # set a tally for each minute between midnight and 1am\n",
    "        sleep_count = np.zeros(60)      \n",
    "        for index, row in df_guard.iterrows():\n",
    "            if 'asleep' in row['event']:\n",
    "                # check it's not the final row in the dataframe\n",
    "                if (index+1 != len(df_guard)):\n",
    "                    # add 1 to the minute tally between asleep and waking minutes\n",
    "                    if 'wakes' in df_guard.iloc[index+1]['event']:\n",
    "                        start=int(df_guard.iloc[index]['time'].split()[1][-2:])\n",
    "                        end=int(df_guard.iloc[index+1]['time'].split()[1][-2:])\n",
    "                        sleep_count[start:end]+=1\n",
    "                    # if final event for the day, add 1 to the minute tally from minute asleep to 1am (though don't think this happens)\n",
    "                    else:\n",
    "                        start=int(df_guard.iloc[index]['time'].split()[1][-2:])\n",
    "                        sleep_count[start:]+=1\n",
    "                # if final row in dataframe, add 1 to the minute tally from minute asleep to 1am (though don't think this happens)\n",
    "                else:\n",
    "                    start=int(df_guard.iloc[index]['time'].split()[1][-2:])\n",
    "                    sleep_count[start:]+=1\n",
    "\n",
    "        guard_total.append([ID_number,sleep_count.sum()])\n",
    "        guard_break_down.append([ID_number,sleep_count])\n",
    "    return np.array(guard_total), guard_break_down"
   ]
  },
  {
   "cell_type": "code",
   "execution_count": 8,
   "metadata": {},
   "outputs": [
    {
     "name": "stderr",
     "output_type": "stream",
     "text": [
      "/usr/local/lib/python3.6/site-packages/ipykernel_launcher.py:18: FutureWarning: set_value is deprecated and will be removed in a future release. Please use .at[] or .iat[] accessors instead\n",
      "/usr/local/lib/python3.6/site-packages/ipykernel_launcher.py:20: FutureWarning: set_value is deprecated and will be removed in a future release. Please use .at[] or .iat[] accessors instead\n"
     ]
    },
    {
     "name": "stdout",
     "output_type": "stream",
     "text": [
      "[[1487.  461.]\n",
      " [1493.  429.]\n",
      " [ 103.  291.]\n",
      " [2389.  427.]\n",
      " [3391.  366.]\n",
      " [3253.  229.]\n",
      " [ 641.  402.]\n",
      " [ 131.  489.]\n",
      " [2797.  349.]\n",
      " [2437.  358.]\n",
      " [2447.  448.]\n",
      " [ 619.  375.]\n",
      " [1613.  334.]\n",
      " [1033.  252.]\n",
      " [2969.  235.]\n",
      " [ 443.  371.]\n",
      " [2089.  330.]\n",
      " [1373.  367.]\n",
      " [2417.  432.]\n",
      " [3023.  150.]\n",
      " [2683.    0.]\n",
      " [1973.    0.]\n",
      " [1913.    0.]]\n",
      "489.0\n",
      "1487 13.0\n",
      "1493 14.0\n",
      "103 10.0\n",
      "2389 15.0\n",
      "3391 11.0\n",
      "3253 9.0\n",
      "641 14.0\n",
      "131 14.0\n",
      "2797 9.0\n",
      "2437 12.0\n",
      "2447 11.0\n",
      "619 12.0\n",
      "1613 11.0\n",
      "1033 10.0\n",
      "2969 7.0\n",
      "443 13.0\n",
      "2089 9.0\n",
      "1373 11.0\n",
      "2417 11.0\n",
      "3023 5.0\n",
      "2683 0.0\n",
      "1973 0.0\n",
      "1913 0.0\n"
     ]
    }
   ],
   "source": [
    "# I got sloppy here and done stuff by inspection, but this was the easiest way (for me)\n",
    "\n",
    "guard_total, guard_break_down = day_four()\n",
    "print (guard_total)\n",
    "print (max(guard_total[:,1]))\n",
    "# from inspection\n",
    "# ID = 131\n",
    "# minute = 36\n",
    "# part 1: 4716\n",
    "\n",
    "guard_max=[]\n",
    "for break_down in guard_break_down:\n",
    "    print (break_down[0],max(break_down[1]))\n",
    "    \n",
    "# from inspection\n",
    "# ID = 2389\n",
    "# minute = 49\n",
    "# part 2: 117061"
   ]
  },
  {
   "cell_type": "markdown",
   "metadata": {},
   "source": [
    "### Day 5"
   ]
  },
  {
   "cell_type": "code",
   "execution_count": 16,
   "metadata": {},
   "outputs": [],
   "source": [
    "## at first I tried iterating through each element of the string and comparing letter to letters before and after.\n",
    "## Using regex is much less clunky\n",
    "\n",
    "import string\n",
    "import re\n",
    "\n",
    "def react_polymer(polymer_string):\n",
    "    lowers=list(string.ascii_lowercase)\n",
    "    proceed = True\n",
    "    while proceed==True:\n",
    "        proceed=False\n",
    "        for letter in lowers:\n",
    "            Ul = letter.upper()+letter\n",
    "            if re.search(Ul,polymer_string):\n",
    "                regex=re.search(r'(.*)'+Ul+'(.*)',polymer_string)\n",
    "                polymer_string=regex.group(1)+regex.group(2)\n",
    "                proceed=True\n",
    "            lU = letter + letter.upper()\n",
    "            if re.search(lU,polymer_string):\n",
    "                regex=re.search(r'(.*)'+lU+'(.*)',polymer_string)\n",
    "                polymer_string=regex.group(1)+regex.group(2)\n",
    "                proceed=True\n",
    "\n",
    "    return (len(polymer_string))\n",
    "\n"
   ]
  },
  {
   "cell_type": "code",
   "execution_count": 34,
   "metadata": {},
   "outputs": [
    {
     "name": "stdout",
     "output_type": "stream",
     "text": [
      "part one: 11546\n",
      "part two: 5124\n"
     ]
    }
   ],
   "source": [
    "# part one\n",
    "# polymer_string = \"dabAcCaCBAcCcaDA\"   # example string\n",
    "polymer_string = open(\"input (4).txt\",\"r\").read()   # question string\n",
    "units=react_polymer(polymer_string) \n",
    "print (\"part one: \"+str(units))# answer 11546\n",
    "\n",
    "# part two\n",
    "results=[]\n",
    "lowers=list(string.ascii_lowercase)\n",
    "for letter in lowers:\n",
    "    polymer_string_reduced = re.sub(letter,'',polymer_string)\n",
    "    polymer_string_reduced = re.sub(letter.upper(),'',polymer_string_reduced)\n",
    "    results.append([letter,react_polymer(polymer_string_reduced)])\n",
    "# I need to do this a better way than appending to lists...making an array..transforming to ints...finding min...\n",
    "print (\"part two: \"+str(min([int(x) for x in np.array(results)[:,1]]))) # answer "
   ]
  },
  {
   "cell_type": "markdown",
   "metadata": {},
   "source": [
    "### Day 6"
   ]
  },
  {
   "cell_type": "code",
   "execution_count": 34,
   "metadata": {},
   "outputs": [
    {
     "name": "stdout",
     "output_type": "stream",
     "text": [
      "part one: 4475\n",
      "part two: 35237\n"
     ]
    }
   ],
   "source": [
    "import numpy as np\n",
    "\n",
    " # from puzzle example input\n",
    "coordinates = np.array([\n",
    "[1, 1],\n",
    "[1, 6],\n",
    "[8, 3],\n",
    "[3, 4],\n",
    "[5, 5],\n",
    "[8, 9]])  \n",
    "\n",
    "# for question\n",
    "coordinates=[]\n",
    "with open(\"input (5).txt\",\"r\") as filein:\n",
    "    for line in filein:\n",
    "        coordinates.append([int(x.split(\"\\n\")[0]) for x in line.split(\",\")])\n",
    "        \n",
    "coordinates = np.array(coordinates) \n",
    "\n",
    "minX = min(coordinates[:,0]) \n",
    "maxX = max(coordinates[:,0]) \n",
    "minY = min(coordinates[:,1]) \n",
    "maxY = max(coordinates[:,1]) \n",
    "\n",
    "coordinates[:,0] = [x-minX for x in coordinates[:,0]]\n",
    "coordinates[:,1] = [y-minY for y in coordinates[:,1]]\n",
    "\n",
    "height=maxY-minY+1\n",
    "width=maxX-minX+1\n",
    "\n",
    "charlist = [['---------']*width]*height\n",
    "location_map = np.array(charlist)\n",
    "\n",
    "safe_region_count=0\n",
    "for i in range(location_map.shape[0]):\n",
    "    for j in range(location_map.shape[1]):\n",
    "        distances = [np.absolute(i-y)+np.absolute(j-x) for [x,y] in coordinates]\n",
    "        if sum(distances) < 10000:\n",
    "            safe_region_count +=1\n",
    "        if len(np.where(distances==min(distances))[0]) > 1:\n",
    "            location_map[i,j] = \".........\"\n",
    "        else:      \n",
    "            location_map[i,j] = str(coordinates[distances.index(min(distances))])\n",
    "\n",
    "finite_locations_count=[]\n",
    "for coordinate in coordinates:\n",
    "    x=str(coordinate)\n",
    "    if (x in location_map[0,:]) or (x in location_map[-1,:]) or (x in location_map[:,0]) or (x in location_map[:,-1]):\n",
    "        pass\n",
    "    else:\n",
    "        finite_locations_count.append((location_map==x).sum())\n",
    "        \n",
    "print (\"part one: \"+str(max(finite_locations_count)))\n",
    "print (\"part two: \"+str(safe_region_count))\n"
   ]
  },
  {
   "cell_type": "markdown",
   "metadata": {},
   "source": [
    "### Day 7\n",
    "\n",
    "This seems a good time to get my head around Python default dictionaries. Nice tutorial here: https://www.accelebrate.com/blog/using-defaultdict-python/"
   ]
  },
  {
   "cell_type": "code",
   "execution_count": 201,
   "metadata": {},
   "outputs": [
    {
     "ename": "NameError",
     "evalue": "name 'available_elvest' is not defined",
     "output_type": "error",
     "traceback": [
      "\u001b[0;31m---------------------------------------------------------------------------\u001b[0m",
      "\u001b[0;31mNameError\u001b[0m                                 Traceback (most recent call last)",
      "\u001b[0;32m<ipython-input-201-e34ca46c95a3>\u001b[0m in \u001b[0;36m<module>\u001b[0;34m()\u001b[0m\n\u001b[1;32m     30\u001b[0m \u001b[0;34m\u001b[0m\u001b[0m\n\u001b[1;32m     31\u001b[0m     \u001b[0;32mif\u001b[0m \u001b[0melf_available\u001b[0m\u001b[0;34m(\u001b[0m\u001b[0;34m)\u001b[0m\u001b[0;34m:\u001b[0m\u001b[0;34m\u001b[0m\u001b[0m\n\u001b[0;32m---> 32\u001b[0;31m         \u001b[0mallocate_to_elf\u001b[0m\u001b[0;34m(\u001b[0m\u001b[0;34m)\u001b[0m\u001b[0;34m\u001b[0m\u001b[0m\n\u001b[0m\u001b[1;32m     33\u001b[0m         \u001b[0manswer\u001b[0m\u001b[0;34m.\u001b[0m\u001b[0mappend\u001b[0m\u001b[0;34m(\u001b[0m\u001b[0mnext_step\u001b[0m\u001b[0;34m)\u001b[0m\u001b[0;34m\u001b[0m\u001b[0m\n\u001b[1;32m     34\u001b[0m         \u001b[0;31m# need to remove from steps list\u001b[0m\u001b[0;34m\u001b[0m\u001b[0;34m\u001b[0m\u001b[0m\n",
      "\u001b[0;32m<ipython-input-187-b5edff0cb0d4>\u001b[0m in \u001b[0;36mallocate_to_elf\u001b[0;34m()\u001b[0m\n\u001b[1;32m     11\u001b[0m \u001b[0;32mdef\u001b[0m \u001b[0mallocate_to_elf\u001b[0m\u001b[0;34m(\u001b[0m\u001b[0;34m)\u001b[0m\u001b[0;34m:\u001b[0m\u001b[0;34m\u001b[0m\u001b[0m\n\u001b[1;32m     12\u001b[0m     \u001b[0mavailable_elves\u001b[0m \u001b[0;34m=\u001b[0m \u001b[0;34m{\u001b[0m\u001b[0mk\u001b[0m\u001b[0;34m:\u001b[0m \u001b[0mv\u001b[0m \u001b[0;32mfor\u001b[0m \u001b[0mk\u001b[0m\u001b[0;34m,\u001b[0m \u001b[0mv\u001b[0m \u001b[0;32min\u001b[0m \u001b[0mrota\u001b[0m\u001b[0;34m.\u001b[0m\u001b[0mitems\u001b[0m\u001b[0;34m(\u001b[0m\u001b[0;34m)\u001b[0m \u001b[0;32mif\u001b[0m \u001b[0mv\u001b[0m\u001b[0;34m==\u001b[0m\u001b[0;32mTrue\u001b[0m\u001b[0;34m}\u001b[0m\u001b[0;34m\u001b[0m\u001b[0m\n\u001b[0;32m---> 13\u001b[0;31m     \u001b[0mavailable_elvest\u001b[0m\u001b[0;34m[\u001b[0m\u001b[0mmin\u001b[0m\u001b[0;34m(\u001b[0m\u001b[0mt\u001b[0m\u001b[0;34m.\u001b[0m\u001b[0mkeys\u001b[0m\u001b[0;34m(\u001b[0m\u001b[0;34m)\u001b[0m\u001b[0;34m)\u001b[0m\u001b[0;34m]\u001b[0m\u001b[0;34m=\u001b[0m\u001b[0;32mFalse\u001b[0m\u001b[0;34m\u001b[0m\u001b[0m\n\u001b[0m",
      "\u001b[0;31mNameError\u001b[0m: name 'available_elvest' is not defined"
     ]
    }
   ],
   "source": [
    "from collections import defaultdict\n",
    "\n",
    "answer=[]\n",
    "\n",
    "instruction_list = []\n",
    "#with open(\"input (6).txt\",\"r\") as filein:\n",
    "with open(\"Day 6 example\",\"r\") as filein:\n",
    "    for line in filein:\n",
    "        instruction_list.append([line.split()[1],line.split()[-3]])\n",
    "        \n",
    "steps = defaultdict(list)\n",
    "\n",
    "for [prerequisite, step] in instruction_list:\n",
    "    steps[step].append(prerequisite)\n",
    "    \n",
    "step_list = []\n",
    "for row in instruction_list:\n",
    "    step_list.append(row[1])\n",
    "\n",
    "for row in instruction_list:\n",
    "    prerequisite = row[0]\n",
    "    if prerequisite not in step_list and prerequisite not in steps:\n",
    "        steps[prerequisite]\n",
    "\n",
    "### this is the bit that needs to loop until all empty\n",
    "seconds=0\n",
    "while all(value == [] for value in steps.values()) is False:\n",
    "    steps_ready = {k: v for k, v in steps.items() if v==[]}\n",
    "    next_step = min(steps_ready.keys()) \n",
    "    \n",
    "    if elf_available():\n",
    "        allocate_to_elf()\n",
    "        answer.append(next_step)\n",
    "        # need to remove from steps list\n",
    "        del steps[next_step]\n",
    "\n",
    "        for key,value in steps.items():\n",
    "            value = [item for item in value if item != next_step]\n",
    "            steps[key] = value\n",
    "    \n",
    "    seconds += 1 #(ord(next_step)-64)\n",
    "    \n",
    "    if len(steps) == 1:\n",
    "        for key in steps:\n",
    "            answer.append(key)\n",
    "            seconds += (ord(key)-65) # as already added 1 above\n",
    "\n",
    "rota = defaultdict\n",
    "num_elves = 2\n",
    "for elf in range(num_elves):\n",
    "    rota[elf] = True\n",
    "    \n",
    "def elf_available():\n",
    "    if any(rota.value()):\n",
    "        return True\n",
    "    \n",
    "def allocate_to_elf():\n",
    "    available_elvens = {k: v for k, v in rota.items() if v==True}\n",
    "    available_elvens[min(t.keys())]=False"
   ]
  },
  {
   "cell_type": "code",
   "execution_count": 157,
   "metadata": {},
   "outputs": [
    {
     "name": "stdout",
     "output_type": "stream",
     "text": [
      "['C', 'A', 'B', 'D', 'F', 'E']\n"
     ]
    }
   ],
   "source": [
    "rota\n",
    "elf_available()\n",
    "print(answer)  # ['I', 'O', 'F', 'S', 'J', 'Q', 'D', 'U', 'W', 'A', 'P', 'X', 'E', 'L', 'N', 'V', 'Y', 'Z', 'M', 'H', 'T', 'B', 'C', 'R', 'G', 'K']"
   ]
  },
  {
   "cell_type": "code",
   "execution_count": 432,
   "metadata": {},
   "outputs": [
    {
     "name": "stdout",
     "output_type": "stream",
     "text": [
      "defaultdict(<class 'list'>, {'A': ['C'], 'F': ['C'], 'B': ['A'], 'D': ['A'], 'E': ['B', 'D', 'F'], 'C': []}) \n",
      " defaultdict(None, {0: [True], 1: [True]})\n",
      "allocate to 0\n",
      "defaultdict(<class 'list'>, {'A': [], 'F': [], 'B': ['A'], 'D': ['A'], 'E': ['B', 'D', 'F']}) \n",
      " defaultdict(None, {0: [False, False, True], 1: [True]})\n",
      "allocate to 1\n",
      "defaultdict(<class 'list'>, {'F': [], 'B': [], 'D': [], 'E': ['B', 'D', 'F']}) \n",
      " defaultdict(None, {0: [False, True], 1: [True]})\n",
      "allocate to 1\n",
      "defaultdict(<class 'list'>, {'F': [], 'D': [], 'E': ['D', 'F']}) \n",
      " defaultdict(None, {0: [True], 1: [False, True]})\n",
      "allocate to 0\n",
      "defaultdict(<class 'list'>, {'F': [], 'E': ['F']}) \n",
      " defaultdict(None, {0: [False, False, False, True], 1: [True]})\n",
      "allocate to 1\n"
     ]
    }
   ],
   "source": [
    "from collections import defaultdict\n",
    "import numpy as np\n",
    "\n",
    "\n",
    "    \n",
    "def elf_available():\n",
    "    for k,v in rota.items():\n",
    "        if True in v:\n",
    "            return True    \n",
    "    return False\n",
    "\n",
    "def allocate_to_elf(seconds):\n",
    "    available_elves = {k: v for k, v in rota.items() if v[0]==True}\n",
    "    lister = [False for x in range(seconds)]+[True]\n",
    "    if len(available_elves)>0:\n",
    "        rota[min(available_elves.keys())] = lister\n",
    "        print (\"allocate to \"+str(min(available_elves.keys())))\n",
    "    \n",
    "def deallocate_from_elves():\n",
    "    for k,v in rota.items():\n",
    "        if False in v:\n",
    "            v.remove(False)\n",
    "            \n",
    "            \n",
    "global rota\n",
    "rota = defaultdict()\n",
    "num_elves = 2\n",
    "\n",
    "for elf in range(num_elves):\n",
    "    rota[elf] = [True]\n",
    "\n",
    "answer=[]\n",
    "\n",
    "instruction_list = []\n",
    "#with open(\"input (6).txt\",\"r\") as filein:\n",
    "with open(\"Day 6 example\",\"r\") as filein:\n",
    "    for line in filein:\n",
    "        instruction_list.append([line.split()[1],line.split()[-3]])\n",
    "        \n",
    "steps = defaultdict(list)\n",
    "\n",
    "for [prerequisite, step] in instruction_list:\n",
    "    steps[step].append(prerequisite)\n",
    "    \n",
    "step_list = []\n",
    "for row in instruction_list:\n",
    "    step_list.append(row[1])\n",
    "\n",
    "for row in instruction_list:\n",
    "    prerequisite = row[0]\n",
    "    if prerequisite not in step_list and prerequisite not in steps:\n",
    "        steps[prerequisite]\n",
    "\n",
    "### this is the bit that needs to loop until all empty\n",
    "seconds=0\n",
    "while all(value == [] for value in steps.values()) is False:\n",
    "    print (steps,\"\\n\",rota)\n",
    "    steps_ready = {k: v for k, v in steps.items() if v==[]}\n",
    "    next_step = min(steps_ready.keys()) \n",
    "    \n",
    "    if elf_available():\n",
    "        allocate_to_elf(ord(next_step)-64)\n",
    "        answer.append(next_step)\n",
    "        # need to remove from steps list\n",
    "        del steps[next_step]\n",
    "\n",
    "        for key,value in steps.items():\n",
    "            value = [item for item in value if item != next_step]\n",
    "            steps[key] = value\n",
    "    \n",
    "    seconds += 1 \n",
    "    deallocate_from_elves()\n",
    "    \n",
    "    if len(steps) == 1:\n",
    "        for key in steps:\n",
    "            answer.append(key)\n",
    "            seconds += (ord(key)-65) # as already added 1 above\n",
    "\n",
    "\n",
    "\n",
    "    \n"
   ]
  },
  {
   "cell_type": "code",
   "execution_count": 428,
   "metadata": {},
   "outputs": [
    {
     "data": {
      "text/plain": [
       "['C', 'A', 'B', 'D', 'F', 'E']"
      ]
     },
     "execution_count": 428,
     "metadata": {},
     "output_type": "execute_result"
    }
   ],
   "source": [
    "answer"
   ]
  },
  {
   "cell_type": "code",
   "execution_count": 257,
   "metadata": {},
   "outputs": [],
   "source": [
    "rota = defaultdict()\n",
    "num_elves = 2\n",
    "for elf in range(num_elves):\n",
    "    rota[elf] = [True]\n",
    "    \n",
    "def elf_available():\n",
    "    if any(rota.values()):\n",
    "        return True    "
   ]
  },
  {
   "cell_type": "code",
   "execution_count": 406,
   "metadata": {},
   "outputs": [],
   "source": [
    "rota = defaultdict()\n",
    "num_elves = 2\n",
    "for elf in range(num_elves):\n",
    "    rota[elf] = [True]\n",
    "    \n",
    "def elf_available():\n",
    "    for k,v in rota.items():\n",
    "        if True in v:\n",
    "            return True    \n",
    "    return False\n",
    "\n",
    "def allocate_to_elf(seconds):\n",
    "    available_elves = {k: v for k, v in rota.items() if v[0]==True}\n",
    "    lister = [False for x in range(seconds)]+[True]\n",
    "    if len(available_elves)>0:\n",
    "        rota[min(available_elves.keys())] = lister\n",
    "    return rota\n",
    "    \n",
    "def deallocate_from_elves(rota):\n",
    "    rota = {k: v.remove(False) for k, v in rota.items() if False in v}\n"
   ]
  },
  {
   "cell_type": "code",
   "execution_count": 407,
   "metadata": {},
   "outputs": [
    {
     "data": {
      "text/plain": [
       "dict_values([[True], [True]])"
      ]
     },
     "execution_count": 407,
     "metadata": {},
     "output_type": "execute_result"
    }
   ],
   "source": [
    "rota.values()"
   ]
  },
  {
   "cell_type": "code",
   "execution_count": 408,
   "metadata": {},
   "outputs": [
    {
     "data": {
      "text/plain": [
       "True"
      ]
     },
     "execution_count": 408,
     "metadata": {},
     "output_type": "execute_result"
    }
   ],
   "source": [
    "elf_available()"
   ]
  },
  {
   "cell_type": "code",
   "execution_count": 410,
   "metadata": {},
   "outputs": [
    {
     "data": {
      "text/plain": [
       "defaultdict(None, {0: [False, True], 1: [False, True]})"
      ]
     },
     "execution_count": 410,
     "metadata": {},
     "output_type": "execute_result"
    }
   ],
   "source": [
    "allocate_to_elf(1)"
   ]
  },
  {
   "cell_type": "code",
   "execution_count": 413,
   "metadata": {},
   "outputs": [],
   "source": [
    "deallocate_from_elves(rota)\n"
   ]
  },
  {
   "cell_type": "code",
   "execution_count": 414,
   "metadata": {},
   "outputs": [
    {
     "data": {
      "text/plain": [
       "defaultdict(None, {0: [True], 1: [True]})"
      ]
     },
     "execution_count": 414,
     "metadata": {},
     "output_type": "execute_result"
    }
   ],
   "source": [
    "rota"
   ]
  },
  {
   "cell_type": "code",
   "execution_count": 202,
   "metadata": {},
   "outputs": [
    {
     "ename": "NameError",
     "evalue": "name 'available_elvest' is not defined",
     "output_type": "error",
     "traceback": [
      "\u001b[0;31m---------------------------------------------------------------------------\u001b[0m",
      "\u001b[0;31mNameError\u001b[0m                                 Traceback (most recent call last)",
      "\u001b[0;32m<ipython-input-202-51d21abca338>\u001b[0m in \u001b[0;36m<module>\u001b[0;34m()\u001b[0m\n\u001b[1;32m     30\u001b[0m \u001b[0;34m\u001b[0m\u001b[0m\n\u001b[1;32m     31\u001b[0m     \u001b[0;32mif\u001b[0m \u001b[0melf_available\u001b[0m\u001b[0;34m(\u001b[0m\u001b[0;34m)\u001b[0m\u001b[0;34m:\u001b[0m\u001b[0;34m\u001b[0m\u001b[0m\n\u001b[0;32m---> 32\u001b[0;31m         \u001b[0mallocate_to_elf\u001b[0m\u001b[0;34m(\u001b[0m\u001b[0;34m)\u001b[0m\u001b[0;34m\u001b[0m\u001b[0m\n\u001b[0m\u001b[1;32m     33\u001b[0m         \u001b[0manswer\u001b[0m\u001b[0;34m.\u001b[0m\u001b[0mappend\u001b[0m\u001b[0;34m(\u001b[0m\u001b[0mnext_step\u001b[0m\u001b[0;34m)\u001b[0m\u001b[0;34m\u001b[0m\u001b[0m\n\u001b[1;32m     34\u001b[0m         \u001b[0;31m# need to remove from steps list\u001b[0m\u001b[0;34m\u001b[0m\u001b[0;34m\u001b[0m\u001b[0m\n",
      "\u001b[0;32m<ipython-input-187-b5edff0cb0d4>\u001b[0m in \u001b[0;36mallocate_to_elf\u001b[0;34m()\u001b[0m\n\u001b[1;32m     11\u001b[0m \u001b[0;32mdef\u001b[0m \u001b[0mallocate_to_elf\u001b[0m\u001b[0;34m(\u001b[0m\u001b[0;34m)\u001b[0m\u001b[0;34m:\u001b[0m\u001b[0;34m\u001b[0m\u001b[0m\n\u001b[1;32m     12\u001b[0m     \u001b[0mavailable_elves\u001b[0m \u001b[0;34m=\u001b[0m \u001b[0;34m{\u001b[0m\u001b[0mk\u001b[0m\u001b[0;34m:\u001b[0m \u001b[0mv\u001b[0m \u001b[0;32mfor\u001b[0m \u001b[0mk\u001b[0m\u001b[0;34m,\u001b[0m \u001b[0mv\u001b[0m \u001b[0;32min\u001b[0m \u001b[0mrota\u001b[0m\u001b[0;34m.\u001b[0m\u001b[0mitems\u001b[0m\u001b[0;34m(\u001b[0m\u001b[0;34m)\u001b[0m \u001b[0;32mif\u001b[0m \u001b[0mv\u001b[0m\u001b[0;34m==\u001b[0m\u001b[0;32mTrue\u001b[0m\u001b[0;34m}\u001b[0m\u001b[0;34m\u001b[0m\u001b[0m\n\u001b[0;32m---> 13\u001b[0;31m     \u001b[0mavailable_elvest\u001b[0m\u001b[0;34m[\u001b[0m\u001b[0mmin\u001b[0m\u001b[0;34m(\u001b[0m\u001b[0mt\u001b[0m\u001b[0;34m.\u001b[0m\u001b[0mkeys\u001b[0m\u001b[0;34m(\u001b[0m\u001b[0;34m)\u001b[0m\u001b[0;34m)\u001b[0m\u001b[0;34m]\u001b[0m\u001b[0;34m=\u001b[0m\u001b[0;32mFalse\u001b[0m\u001b[0;34m\u001b[0m\u001b[0m\n\u001b[0m",
      "\u001b[0;31mNameError\u001b[0m: name 'available_elvest' is not defined"
     ]
    }
   ],
   "source": [
    "from collections import defaultdict\n",
    "\n",
    "answer=[]\n",
    "\n",
    "instruction_list = []\n",
    "#with open(\"input (6).txt\",\"r\") as filein:\n",
    "with open(\"Day 6 example\",\"r\") as filein:\n",
    "    for line in filein:\n",
    "        instruction_list.append([line.split()[1],line.split()[-3]])\n",
    "        \n",
    "steps = defaultdict(list)\n",
    "\n",
    "for [prerequisite, step] in instruction_list:\n",
    "    steps[step].append(prerequisite)\n",
    "    \n",
    "step_list = []\n",
    "for row in instruction_list:\n",
    "    step_list.append(row[1])\n",
    "\n",
    "for row in instruction_list:\n",
    "    prerequisite = row[0]\n",
    "    if prerequisite not in step_list and prerequisite not in steps:\n",
    "        steps[prerequisite]\n",
    "\n",
    "### this is the bit that needs to loop until all empty\n",
    "seconds=0\n",
    "while all(value == [] for value in steps.values()) is False:\n",
    "    steps_ready = {k: v for k, v in steps.items() if v==[]}\n",
    "    next_step = min(steps_ready.keys()) \n",
    "    \n",
    "    if elf_available():\n",
    "        allocate_to_elf()\n",
    "        answer.append(next_step)\n",
    "        # need to remove from steps list\n",
    "        del steps[next_step]\n",
    "\n",
    "        for key,value in steps.items():\n",
    "            value = [item for item in value if item != next_step]\n",
    "            steps[key] = value\n",
    "    \n",
    "    seconds += 1 #(ord(next_step)-64)\n",
    "    \n",
    "    if len(steps) == 1:\n",
    "        for key in steps:\n",
    "            answer.append(key)\n",
    "            seconds += (ord(key)-65) # as already added 1 above\n",
    "\n",
    "rota = defaultdict\n",
    "num_elves = 2\n",
    "for elf in range(num_elves):\n",
    "    rota[elf] = True\n",
    "    \n",
    "def elf_available():\n",
    "    if any(rota.value()):\n",
    "        return True\n",
    "    \n",
    "def allocate_to_elf():\n",
    "    available_elvens = {k: v for k, v in rota.items() if v==True}\n",
    "    available_elvens[min(t.keys())]=False"
   ]
  },
  {
   "cell_type": "code",
   "execution_count": null,
   "metadata": {},
   "outputs": [],
   "source": []
  }
 ],
 "metadata": {
  "kernelspec": {
   "display_name": "Python 3",
   "language": "python",
   "name": "python3"
  },
  "language_info": {
   "codemirror_mode": {
    "name": "ipython",
    "version": 3
   },
   "file_extension": ".py",
   "mimetype": "text/x-python",
   "name": "python",
   "nbconvert_exporter": "python",
   "pygments_lexer": "ipython3",
   "version": "3.6.1"
  }
 },
 "nbformat": 4,
 "nbformat_minor": 2
}
